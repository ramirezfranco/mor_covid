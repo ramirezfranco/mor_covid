{
 "cells": [
  {
   "cell_type": "code",
   "execution_count": 348,
   "metadata": {},
   "outputs": [],
   "source": [
    "import pandas as pd\n",
    "import lnpp_salud as aux\n",
    "import datetime\n",
    "%reload_ext autoreload\n",
    "%autoreload 2"
   ]
  },
  {
   "cell_type": "code",
   "execution_count": 244,
   "metadata": {},
   "outputs": [],
   "source": [
    "# Pagina de datos historicos\n",
    "hist_page = aux.make_soup('https://www.gob.mx/salud/documentos/datos-abiertos-bases-historicas-direccion-general-de-epidemiologia')"
   ]
  },
  {
   "cell_type": "code",
   "execution_count": 344,
   "metadata": {},
   "outputs": [],
   "source": [
    "# Despues de explorar la pagina se observa que los urls de los archivos se encuentran en la tabla 0\n",
    "# Se obtienen todoas los objetos identificados con la etiqueta 'a' dentro de la tabla 0 y se extraen los urls\n",
    "urls_list = [r.get('href') for r in hist_page.find_all('table')[0].find_all('a')]"
   ]
  },
  {
   "cell_type": "code",
   "execution_count": 370,
   "metadata": {},
   "outputs": [],
   "source": [
    "# se extrae la fecha de los urls\n",
    "urls_list = [[datetime.date(int(urls_list[i][-8:-4]), int(urls_list[i][-11:-9]), int(urls_list[i][-14:-12])), urls_list[i]] for i in range(len(urls_list))]"
   ]
  },
  {
   "cell_type": "code",
   "execution_count": 437,
   "metadata": {},
   "outputs": [],
   "source": [
    "# se crea una base de datos con la informacion y se ordena por fecha ascendente:\n",
    "urls = pd.DataFrame(urls_list, columns = ['fecha', 'url'])\n",
    "urls = urls.sort_values(by='fecha')\n",
    "urls = urls.reset_index().drop('index', axis=1)"
   ]
  },
  {
   "cell_type": "code",
   "execution_count": 457,
   "metadata": {},
   "outputs": [
    {
     "data": {
      "text/html": [
       "<div>\n",
       "<style scoped>\n",
       "    .dataframe tbody tr th:only-of-type {\n",
       "        vertical-align: middle;\n",
       "    }\n",
       "\n",
       "    .dataframe tbody tr th {\n",
       "        vertical-align: top;\n",
       "    }\n",
       "\n",
       "    .dataframe thead th {\n",
       "        text-align: right;\n",
       "    }\n",
       "</style>\n",
       "<table border=\"1\" class=\"dataframe\">\n",
       "  <thead>\n",
       "    <tr style=\"text-align: right;\">\n",
       "      <th></th>\n",
       "      <th>fecha</th>\n",
       "      <th>url</th>\n",
       "    </tr>\n",
       "  </thead>\n",
       "  <tbody>\n",
       "    <tr>\n",
       "      <th>0</th>\n",
       "      <td>2020-04-12</td>\n",
       "      <td>http://187.191.75.115/gobmx/salud/datos_abiert...</td>\n",
       "    </tr>\n",
       "    <tr>\n",
       "      <th>1</th>\n",
       "      <td>2020-04-13</td>\n",
       "      <td>http://187.191.75.115/gobmx/salud/datos_abiert...</td>\n",
       "    </tr>\n",
       "    <tr>\n",
       "      <th>2</th>\n",
       "      <td>2020-04-14</td>\n",
       "      <td>http://187.191.75.115/gobmx/salud/datos_abiert...</td>\n",
       "    </tr>\n",
       "    <tr>\n",
       "      <th>3</th>\n",
       "      <td>2020-04-15</td>\n",
       "      <td>http://187.191.75.115/gobmx/salud/datos_abiert...</td>\n",
       "    </tr>\n",
       "    <tr>\n",
       "      <th>4</th>\n",
       "      <td>2020-04-16</td>\n",
       "      <td>http://187.191.75.115/gobmx/salud/datos_abiert...</td>\n",
       "    </tr>\n",
       "  </tbody>\n",
       "</table>\n",
       "</div>"
      ],
      "text/plain": [
       "        fecha                                                url\n",
       "0  2020-04-12  http://187.191.75.115/gobmx/salud/datos_abiert...\n",
       "1  2020-04-13  http://187.191.75.115/gobmx/salud/datos_abiert...\n",
       "2  2020-04-14  http://187.191.75.115/gobmx/salud/datos_abiert...\n",
       "3  2020-04-15  http://187.191.75.115/gobmx/salud/datos_abiert...\n",
       "4  2020-04-16  http://187.191.75.115/gobmx/salud/datos_abiert..."
      ]
     },
     "execution_count": 457,
     "metadata": {},
     "output_type": "execute_result"
    }
   ],
   "source": [
    "urls.head(5)"
   ]
  },
  {
   "cell_type": "code",
   "execution_count": 461,
   "metadata": {},
   "outputs": [],
   "source": [
    "# itera sobre todas las fechas disponibles, extrae la informacion requerida y crea una base con los numeros de\n",
    "# casos nuevos sospechosos, confirmados y defunciones\n",
    "nuevos_casos_diarios = pd.DataFrame()\n",
    "pas = aux.abrir_limitado(urls['url'].iloc[0])\n",
    "for i in range(1,len(urls)):\n",
    "    act = aux.abrir_limitado(urls['url'].iloc[i])\n",
    "    casos = aux.extraccion(act, pas)\n",
    "    df = casos.nuevos()\n",
    "    df['fecha'] = urls['fecha'].iloc[i]\n",
    "    nuevos_casos_diarios = nuevos_casos_diarios.append(df)\n",
    "    pas = act"
   ]
  },
  {
   "cell_type": "code",
   "execution_count": 470,
   "metadata": {},
   "outputs": [],
   "source": [
    "# Extrae la informacion de la ultima base, aun no disponible en la pagina de bases historicas\n",
    "ayer = aux.abrir_limitado(urls['url'].iloc[-1])\n",
    "hoy = aux.abrir_limitado('http://187.191.75.115/gobmx/salud/datos_abiertos/datos_abiertos_covid19.zip')\n",
    "ultimo = aux.extraccion(hoy, ayer)\n",
    "ultimo_df = ultimo.nuevos()"
   ]
  },
  {
   "cell_type": "code",
   "execution_count": 474,
   "metadata": {},
   "outputs": [],
   "source": [
    "# Agrega la ultima base\n",
    "nuevos_casos_diarios = nuevos_casos_diarios.append(ultimo_df)"
   ]
  },
  {
   "cell_type": "code",
   "execution_count": 482,
   "metadata": {},
   "outputs": [],
   "source": [
    "# Crea la base de nuevos casos por fecha\n",
    "nuevos_casos_diarios_acumulados = nuevos_casos_diarios.groupby(by=['fecha']).sum()[['sospechosos', 'confirmados', 'defunciones']]\n",
    "nuevos_casos_diarios_acumulados = nuevos_casos_diarios_acumulados.reset_index()\n",
    "nuevos_casos_diarios_acumulados.columns = ['fecha', 'sospechosos', 'confirmados', 'defunciones']"
   ]
  },
  {
   "cell_type": "code",
   "execution_count": null,
   "metadata": {},
   "outputs": [],
   "source": [
    "# Se guardan las bases creadas"
   ]
  },
  {
   "cell_type": "code",
   "execution_count": 478,
   "metadata": {},
   "outputs": [],
   "source": [
    "nuevos_casos_diarios.to_csv('data/nuevos_casos_diarios.csv', index=False)"
   ]
  },
  {
   "cell_type": "code",
   "execution_count": 483,
   "metadata": {},
   "outputs": [],
   "source": [
    "nuevos_casos_diarios_acumulados.to_csv('data/nuevos_casos_diarios_acumulados.csv', index=False)"
   ]
  },
  {
   "cell_type": "code",
   "execution_count": 481,
   "metadata": {},
   "outputs": [],
   "source": [
    "urls.to_csv('data/ulrs_12-07-2020.csv', index=False)"
   ]
  },
  {
   "cell_type": "code",
   "execution_count": null,
   "metadata": {},
   "outputs": [],
   "source": []
  }
 ],
 "metadata": {
  "kernelspec": {
   "display_name": "Python 3",
   "language": "python",
   "name": "python3"
  },
  "language_info": {
   "codemirror_mode": {
    "name": "ipython",
    "version": 3
   },
   "file_extension": ".py",
   "mimetype": "text/x-python",
   "name": "python",
   "nbconvert_exporter": "python",
   "pygments_lexer": "ipython3",
   "version": "3.7.1"
  }
 },
 "nbformat": 4,
 "nbformat_minor": 2
}
